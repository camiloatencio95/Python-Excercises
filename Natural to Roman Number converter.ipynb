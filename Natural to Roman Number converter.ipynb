{
 "cells": [
  {
   "cell_type": "markdown",
   "metadata": {},
   "source": [
    "# Natural to roman number converter function \n"
   ]
  },
  {
   "cell_type": "markdown",
   "metadata": {},
   "source": [
    "The following problem was taken from <a href=\"https://leetcode.com/problems/integer-to-roman/\">Leet code</a>:\n"
   ]
  },
  {
   "cell_type": "markdown",
   "metadata": {},
   "source": [
    "Roman numerals are represented by seven different symbols: I, V, X, L, C, D and M.\n",
    "<pre>\n",
    "Symbol       Value\n",
    "I             1\n",
    "V             5\n",
    "X             10\n",
    "L             50\n",
    "C             100\n",
    "D             500\n",
    "M             1000\n",
    "</pre>\n",
    "For example, 2 is written as II in Roman numeral, just two one's added together. 12 is written as XII, which is simply X + II. The number 27 is written as XXVII, which is XX + V + II.\n",
    "\n",
    "Roman numerals are usually written largest to smallest from left to right. However, the numeral for four is not IIII. Instead, the number four is written as IV. Because the one is before the five we subtract it making four. The same principle applies to the number nine, which is written as IX. There are six instances where subtraction is used:\n",
    "\n",
    "I can be placed before V (5) and X (10) to make 4 and 9. \n",
    "X can be placed before L (50) and C (100) to make 40 and 90. \n",
    "C can be placed before D (500) and M (1000) to make 400 and 900.\n",
    "Given an integer, convert it to a roman numeral."
   ]
  },
  {
   "cell_type": "markdown",
   "metadata": {},
   "source": [
    "# Solution\n"
   ]
  },
  {
   "cell_type": "markdown",
   "metadata": {},
   "source": [
    "This problem could be seen as \"translating\" the numbes in one form to another, following the rules as described above.\n",
    "For that, we have to create a dictionary with keys (a,b) in wich a is the position of the number and b is the actual value.\n",
    "After defining that table we will decompose a number 4000 in a list like <strong>[(3,4),(2,0),(1,0),(0,0)]</strong>"
   ]
  },
  {
   "cell_type": "code",
   "execution_count": 60,
   "metadata": {},
   "outputs": [],
   "source": [
    "def intToRoman(num):\n",
    "    assert type(num) is int\n",
    "    #This dictionary will serve as a translator    \n",
    "    num_to_roman={ (3,1):\"M\",\\\n",
    "        (2,5):\"D\",\\\n",
    "        (2,1):\"C\",\\\n",
    "        (1,5):\"L\",\\\n",
    "        (1,1):\"X\",\\\n",
    "        (0,5):\"V\",\\\n",
    "        (0,1):\"I\"}\n",
    "    \n",
    "    x = str(num)\n",
    "    \n",
    "    #Decomposing in the tuples (a,b) as described above\n",
    "    decomposition = [(len(x)-i-1,int(j)) for i,j in enumerate(x)]\n",
    "    \n",
    "    #This will be a list where we will store the translation\n",
    "    num = [\"\"]*len(decomposition)\n",
    "    \n",
    "    #Finally some put together the logic between the decomposition list and the dictionary\n",
    "    \n",
    "    for i,j in decomposition:\n",
    "        #If the value j in the position i is 0, we do not have a translation for that!\n",
    "        if j==0:\n",
    "            num[i] = \"\"\n",
    "        #If the value j in the position is between 1 and 3, we repeated according to is i position\n",
    "        if j>=1 and j<=3 :\n",
    "            num[i] = num_to_roman[(i,1)]*j\n",
    "        #If its 4 we have to concatenate two results according to the description\n",
    "        elif j==4:\n",
    "            num[i] = num_to_roman[(i,1)]+num_to_roman[(i,5)]\n",
    "        #If its 5 we chose the correct representation of 5 in that position \n",
    "        elif j==5:\n",
    "            num[i]=num_to_roman[(i,5)]\n",
    "        #If the value j in the position is between 5 and 8, concatenate the according representation of 5 and the \"excess ones\"\n",
    "        elif j>5 and j<=8:\n",
    "            num[i]=num_to_roman[(i,5)]+num_to_roman[(i,1)]*(j-5)\n",
    "        elif j==9:\n",
    "        #If its 9 we have to concatenate two results according to the description\n",
    "            num[i]=num_to_roman[(i,1)]+num_to_roman[(i+1,1)]\n",
    "    \n",
    "    \n",
    "            \n",
    "    return \"\".join(num[::-1])"
   ]
  },
  {
   "cell_type": "code",
   "execution_count": 63,
   "metadata": {},
   "outputs": [
    {
     "data": {
      "text/plain": [
       "'XXI'"
      ]
     },
     "execution_count": 63,
     "metadata": {},
     "output_type": "execute_result"
    }
   ],
   "source": [
    "intToRoman(21)"
   ]
  },
  {
   "cell_type": "code",
   "execution_count": null,
   "metadata": {},
   "outputs": [],
   "source": []
  }
 ],
 "metadata": {
  "kernelspec": {
   "display_name": "Python 3",
   "language": "python",
   "name": "python3"
  },
  "language_info": {
   "codemirror_mode": {
    "name": "ipython",
    "version": 3
   },
   "file_extension": ".py",
   "mimetype": "text/x-python",
   "name": "python",
   "nbconvert_exporter": "python",
   "pygments_lexer": "ipython3",
   "version": "3.8.3"
  }
 },
 "nbformat": 4,
 "nbformat_minor": 4
}
